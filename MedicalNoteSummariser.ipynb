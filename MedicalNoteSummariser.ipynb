{
  "nbformat": 4,
  "nbformat_minor": 0,
  "metadata": {
    "colab": {
      "provenance": [],
      "authorship_tag": "ABX9TyNtqYnJitrIq+JVVNOM6oaO",
      "include_colab_link": true
    },
    "kernelspec": {
      "name": "python3",
      "display_name": "Python 3"
    },
    "language_info": {
      "name": "python"
    }
  },
  "cells": [
    {
      "cell_type": "markdown",
      "metadata": {
        "id": "view-in-github",
        "colab_type": "text"
      },
      "source": [
        "<a href=\"https://colab.research.google.com/github/098Steve/Jupyter/blob/main/MedicalNoteSummariser.ipynb\" target=\"_parent\"><img src=\"https://colab.research.google.com/assets/colab-badge.svg\" alt=\"Open In Colab\"/></a>"
      ]
    },
    {
      "cell_type": "code",
      "execution_count": 4,
      "metadata": {
        "colab": {
          "base_uri": "https://localhost:8080/",
          "height": 668
        },
        "id": "rHoieTPp1LqV",
        "outputId": "262ebd30-3441-40bc-8253-5de4c5a6df80"
      },
      "outputs": [
        {
          "output_type": "stream",
          "name": "stderr",
          "text": [
            "Device set to use cpu\n"
          ]
        },
        {
          "output_type": "stream",
          "name": "stdout",
          "text": [
            "It looks like you are running Gradio on a hosted a Jupyter notebook. For the Gradio app to work, sharing must be enabled. Automatically setting `share=True` (you can turn this off by setting `share=False` in `launch()` explicitly).\n",
            "\n",
            "Colab notebook detected. To show errors in colab notebook, set debug=True in launch()\n",
            "* Running on public URL: https://6ffb4c4a0e16f3947c.gradio.live\n",
            "\n",
            "This share link expires in 1 week. For free permanent hosting and GPU upgrades, run `gradio deploy` from the terminal in the working directory to deploy to Hugging Face Spaces (https://huggingface.co/spaces)\n"
          ]
        },
        {
          "output_type": "display_data",
          "data": {
            "text/plain": [
              "<IPython.core.display.HTML object>"
            ],
            "text/html": [
              "<div><iframe src=\"https://6ffb4c4a0e16f3947c.gradio.live\" width=\"100%\" height=\"500\" allow=\"autoplay; camera; microphone; clipboard-read; clipboard-write;\" frameborder=\"0\" allowfullscreen></iframe></div>"
            ]
          },
          "metadata": {}
        },
        {
          "output_type": "execute_result",
          "data": {
            "text/plain": []
          },
          "metadata": {},
          "execution_count": 4
        }
      ],
      "source": [
        "\n",
        "import gradio as gr\n",
        "from transformers import pipeline\n",
        "\n",
        "# Load Summarisation pipeline\n",
        "summariser = pipeline(\"summarization\", model = \"Falconsai/medical_summarization\")\n",
        "\n",
        "#this is a big model with 201 tensors \"IBI-CAAI/MELT-llama-2-3x70b-chat-hf\"\n",
        "\n",
        "# Function to wrap the model output\n",
        "def analyze_summarisation(text):\n",
        "    result = summariser(text)[0]\n",
        "    return f\"{result}\"\n",
        "\n",
        "# Gradio interface\n",
        "demo = gr.Interface(\n",
        "    fn=analyze_summarisation,\n",
        "    inputs=gr.Textbox(lines=3, placeholder=\"Type a review or sentence here...\"),\n",
        "    outputs=gr.Textbox(label=\"Summarization Result\"),\n",
        "    title=\"Medical Note Summarization Tool\",\n",
        "    description=\"Uses a Hugging Face model that returns a text summarization of medical notes.\"\n",
        ")\n",
        "\n",
        "demo.launch()\n",
        "# Use Gradio for MVP, POC user interfaces with non-sensitive data\n",
        "# If deploying fully, you may wish to use a cloud service or streamlit\n",
        "## Make sure you speak with your IT/software/DevOps/cybersecurity teams before deploying anything"
      ]
    }
  ]
}