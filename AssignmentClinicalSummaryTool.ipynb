import gradio as gr
from transformers import pipeline#, AutoModel, AutoTokenizer

# Load Summarisation pipeline
summariser = pipeline("summarization", model="google/flan-t5-xl")

# Models to test
#	google/flan-t5-xl
#	google/flan-ul2
#	medalpaca/medalpaca-7b
#	chavinlo/alpaca-native
#	AlekseyKorshuk/vicuna-7b
#	meta-llama/Llama-2-7b-hf

# Function to wrap the model output
def analyze_summarisation(text):
    result = summariser(text)[0]
    return f"{result}"

# Gradio interface
# Gradio is being used for creating a POC user interfaces using non-sensitive data
# If this were to be deployed fully we would use a cloud service an embed it in the front end of the PPM+ system
demo = gr.Interface(
    fn=analyze_summarisation,
    inputs=gr.Textbox(lines=3, placeholder="Type or paste your synthesised clinical notes here..."),
    outputs=gr.Textbox(label="Summarization Result"),
    title="Proof Of Concept - Medical Note Summarization Tool",
    description="**THIS HAS NOT BEEN APPROVED FOR USE WITH PATIENT DATA - PLEASE DO NOT ADD ANY REAL PATIENT DATA**"
)

demo.launch()
